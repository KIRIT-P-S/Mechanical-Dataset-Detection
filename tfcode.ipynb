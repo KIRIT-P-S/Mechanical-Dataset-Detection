{
 "cells": [
  {
   "cell_type": "code",
   "execution_count": 1,
   "id": "3e503ab2-6edf-4ad1-b85a-d17616f3c551",
   "metadata": {},
   "outputs": [],
   "source": [
    "import tensorflow as tf\n",
    "import numpy as np"
   ]
  },
  {
   "cell_type": "code",
   "execution_count": null,
   "id": "4cb13165-c16a-4661-aa29-9584d1a14fee",
   "metadata": {},
   "outputs": [
    {
     "name": "stdout",
     "output_type": "stream",
     "text": [
      "Copied bottle: 209 train, 146 test\n",
      "Copied cable: 224 train, 210 test\n",
      "Copied capsule: 219 train, 177 test\n",
      "Copied carpet: 280 train, 153 test\n",
      "Copied grid: 264 train, 102 test\n",
      "Copied hazelnut: 391 train, 145 test\n",
      "Copied leather: 245 train, 179 test\n",
      "Copied metal_nut: 220 train, 185 test\n",
      "Copied pill: 267 train, 275 test\n",
      "Copied screw: 320 train, 160 test\n",
      "Copied tile: 230 train, 134 test\n",
      "Copied toothbrush: 269 train, 72 test\n",
      "Copied transistor: 213 train, 130 test\n",
      "Copied wood: 247 train, 98 test\n",
      "Copied zipper: 240 train, 219 test\n"
     ]
    }
   ],
   "source": [
    "import os\n",
    "import shutil\n",
    "import glob\n",
    "\n",
    "def restructure_for_tensorflow(source_dir, output_dir):\n",
    "    os.makedirs(f\"{output_dir}/train\", exist_ok=True)\n",
    "    os.makedirs(f\"{output_dir}/test\", exist_ok=True)\n",
    "    \n",
    "    classes = [d for d in os.listdir(source_dir) if os.path.isdir(os.path.join(source_dir, d))]\n",
    "    \n",
    "    for class_name in classes:\n",
    "        os.makedirs(f\"{output_dir}/train/{class_name}\", exist_ok=True)\n",
    "        os.makedirs(f\"{output_dir}/test/{class_name}\", exist_ok=True)\n",
    "        \n",
    "        train_images = glob.glob(f\"{source_dir}/{class_name}/train/good/*\")\n",
    "        for img in train_images:\n",
    "            shutil.copy2(img, f\"{output_dir}/train/{class_name}/\")\n",
    "        \n",
    "        test_images = glob.glob(f\"{source_dir}/{class_name}/test/*/*\")\n",
    "        for img in test_images:\n",
    "            shutil.copy2(img, f\"{output_dir}/test/{class_name}/\")\n",
    "        \n",
    "        print(f\"Copied {class_name}: {len(train_images)} train, {len(test_images)} test\")\n",
    "\n",
    "restructure_for_tensorflow(r\"C:\\Users\\DELL\\mechanical\\mvtec_anomaly_detection\", \"dataset_tf\")\n"
   ]
  },
  {
   "cell_type": "code",
   "execution_count": 11,
   "id": "af8bb7b4-1c91-4515-ab52-4d0de83a03df",
   "metadata": {},
   "outputs": [],
   "source": [
    "# train_dataset = tf.keras.utils.image_dataset_from_directory(\n",
    "#      r\"C:\\Users\\DELL\\mechanical\\dataset_tf\\train\\\",\n",
    "#     labels='inferred', \n",
    "#     label_mode='int',  \n",
    "#     image_size=(224, 224),\n",
    "#     batch_size=32,\n",
    "#     subset='training',\n",
    "#     validation_split=0.2,\n",
    "#     seed=123\n",
    "# )"
   ]
  },
  {
   "cell_type": "code",
   "execution_count": 28,
   "id": "7c3467ab-de4c-4317-a27e-4bfe9f8b613e",
   "metadata": {},
   "outputs": [
    {
     "name": "stdout",
     "output_type": "stream",
     "text": [
      "Found 209 files belonging to 1 classes.\n"
     ]
    }
   ],
   "source": [
    "train_dataset = tf.keras.utils.image_dataset_from_directory(\n",
    "    r\"C:\\Users\\DELL\\mechanical\\dataset_tf\\train\\bottle\",\n",
    "    labels=None, \n",
    "    image_size=(224, 224),\n",
    "    batch_size=32\n",
    ")\n",
    "train_dataset = train_dataset.map(lambda x: (x, tf.zeros(tf.shape(x)[0], dtype=tf.int32)))"
   ]
  },
  {
   "cell_type": "code",
   "execution_count": 29,
   "id": "739a534c-4e21-4bd4-9c54-6af87ee2646f",
   "metadata": {},
   "outputs": [],
   "source": [
    "# test_dataset = tf.keras.utils.image_dataset_from_directory(\n",
    "#     r\"dataset_tf/test\",\n",
    "#     labels='inferred', \n",
    "#     label_mode='int',  \n",
    "#     image_size=(224, 224),\n",
    "#     batch_size=32\n",
    "# )"
   ]
  },
  {
   "cell_type": "code",
   "execution_count": 30,
   "id": "5f84dad2-4be3-42de-bced-48d925e92004",
   "metadata": {},
   "outputs": [
    {
     "name": "stdout",
     "output_type": "stream",
     "text": [
      "Found 146 files belonging to 1 classes.\n"
     ]
    }
   ],
   "source": [
    "import tensorflow as tf\n",
    "\n",
    "test_dataset = tf.keras.utils.image_dataset_from_directory(\n",
    "    r\"C:\\Users\\DELL\\mechanical\\dataset_tf\\test\\bottle\",\n",
    "    labels=None, \n",
    "    image_size=(224, 224),\n",
    "    batch_size=32\n",
    ")\n",
    "\n",
    "test_dataset = test_dataset.map(lambda x: (x, tf.zeros(tf.shape(x)[0], dtype=tf.int32)))\n"
   ]
  },
  {
   "cell_type": "code",
   "execution_count": 31,
   "id": "98adac39-a308-42c4-8213-07400db60715",
   "metadata": {},
   "outputs": [
    {
     "ename": "AttributeError",
     "evalue": "'MapDataset' object has no attribute 'class_names'",
     "output_type": "error",
     "traceback": [
      "\u001b[1;31m---------------------------------------------------------------------------\u001b[0m",
      "\u001b[1;31mAttributeError\u001b[0m                            Traceback (most recent call last)",
      "Cell \u001b[1;32mIn[31], line 1\u001b[0m\n\u001b[1;32m----> 1\u001b[0m class_name_train \u001b[38;5;241m=\u001b[39m \u001b[43mtrain_dataset\u001b[49m\u001b[38;5;241;43m.\u001b[39;49m\u001b[43mclass_names\u001b[49m\n\u001b[0;32m      2\u001b[0m class_name_train\n",
      "\u001b[1;31mAttributeError\u001b[0m: 'MapDataset' object has no attribute 'class_names'"
     ]
    }
   ],
   "source": [
    "class_name_train = train_dataset.class_names\n",
    "class_name_train"
   ]
  },
  {
   "cell_type": "code",
   "execution_count": 32,
   "id": "008cabfe-3dfb-4448-867c-1b878fff7b60",
   "metadata": {},
   "outputs": [
    {
     "ename": "AttributeError",
     "evalue": "'MapDataset' object has no attribute 'class_names'",
     "output_type": "error",
     "traceback": [
      "\u001b[1;31m---------------------------------------------------------------------------\u001b[0m",
      "\u001b[1;31mAttributeError\u001b[0m                            Traceback (most recent call last)",
      "Cell \u001b[1;32mIn[32], line 1\u001b[0m\n\u001b[1;32m----> 1\u001b[0m class_name_test \u001b[38;5;241m=\u001b[39m \u001b[43mtest_dataset\u001b[49m\u001b[38;5;241;43m.\u001b[39;49m\u001b[43mclass_names\u001b[49m\n\u001b[0;32m      2\u001b[0m class_name_test\n",
      "\u001b[1;31mAttributeError\u001b[0m: 'MapDataset' object has no attribute 'class_names'"
     ]
    }
   ],
   "source": [
    "class_name_test = test_dataset.class_names\n",
    "class_name_test"
   ]
  },
  {
   "cell_type": "code",
   "execution_count": 33,
   "id": "10176c59-f1e7-482c-b07f-4fe4ebe64fff",
   "metadata": {},
   "outputs": [],
   "source": [
    "from keras import Sequential\n",
    "from keras.layers import Conv2D, MaxPooling2D, Flatten, Dense, Dropout\n",
    "from keras_tuner import RandomSearch"
   ]
  },
  {
   "cell_type": "code",
   "execution_count": 34,
   "id": "5e51aef0-54ea-43e4-8244-7de4118ba0b3",
   "metadata": {},
   "outputs": [],
   "source": [
    "def cnn_model(inp):\n",
    "    model = Sequential()\n",
    "    model.add(Conv2D(filters = inp.Int('conv_1_filters', min_value = 32, max_value = 64, step = 6),\n",
    "                     kernel_size = inp.Choice('conv_1_kernal', values = [3, 5]),\n",
    "                     activation = 'elu',\n",
    "                     kernel_initializer='he_normal',\n",
    "                     input_shape = (224, 224, 3),\n",
    "                     ))\n",
    "    model.add(MaxPooling2D(2,2))\n",
    "    model.add(Flatten())\n",
    "    model.add(Dense(units = inp.Int('Dense_1', min_value = 32, max_value = 128),\n",
    "                    activation = 'elu',\n",
    "                    kernel_initializer = 'he_uniform'))\n",
    "    model.add(Dropout(0.2)) \n",
    "    model.add(Dense(15,activation='softmax'))    \n",
    "    model.compile(optimizer = 'adam', loss = 'sparse_categorical_crossentropy', metrics = ['accuracy'])\n",
    "\n",
    "    return model"
   ]
  },
  {
   "cell_type": "code",
   "execution_count": 35,
   "id": "a905113c-da86-42db-baf8-9b55f2c33667",
   "metadata": {},
   "outputs": [],
   "source": [
    "rs = RandomSearch(\n",
    "    cnn_model,\n",
    "    objective='val_accuracy',\n",
    "    max_trials=5,\n",
    "    directory='outputwithdropout03',\n",
    "    project_name='Mechanical',\n",
    "    overwrite=True  \n",
    ")"
   ]
  },
  {
   "cell_type": "code",
   "execution_count": 36,
   "id": "c5151034-61be-4d68-835a-68af2d51421b",
   "metadata": {},
   "outputs": [],
   "source": [
    "val_size = 0.2\n",
    "train_size = int((1 - val_size) * len(train_dataset))\n",
    "\n",
    "train_ds = train_dataset.take(train_size)\n",
    "val_ds = train_dataset.skip(train_size)\n",
    "\n",
    "def preprocess(image, label):\n",
    "    image = tf.image.resize(image, [224, 224])\n",
    "    image = image / 255.0  \n",
    "    return image, label\n",
    "\n",
    "train_ds = train_ds.map(preprocess)\n",
    "val_ds = val_ds.map(preprocess)"
   ]
  },
  {
   "cell_type": "code",
   "execution_count": 37,
   "id": "d2f17cc4-51e1-4f8c-8cda-637bc5fc461f",
   "metadata": {},
   "outputs": [
    {
     "name": "stdout",
     "output_type": "stream",
     "text": [
      "Trial 5 Complete [00h 00m 06s]\n",
      "val_accuracy: 1.0\n",
      "\n",
      "Best val_accuracy So Far: 1.0\n",
      "Total elapsed time: 00h 00m 38s\n"
     ]
    }
   ],
   "source": [
    "rs.search(train_ds.unbatch().batch(16), \n",
    "          validation_data=val_ds.unbatch().batch(16),\n",
    "          epochs=3)"
   ]
  },
  {
   "cell_type": "code",
   "execution_count": null,
   "id": "cb74143b-294f-41b3-98aa-2f9bcac332f7",
   "metadata": {},
   "outputs": [],
   "source": []
  }
 ],
 "metadata": {
  "kernelspec": {
   "display_name": "tf_gpu",
   "language": "python",
   "name": "tf_gpu"
  },
  "language_info": {
   "codemirror_mode": {
    "name": "ipython",
    "version": 3
   },
   "file_extension": ".py",
   "mimetype": "text/x-python",
   "name": "python",
   "nbconvert_exporter": "python",
   "pygments_lexer": "ipython3",
   "version": "3.10.18"
  }
 },
 "nbformat": 4,
 "nbformat_minor": 5
}
